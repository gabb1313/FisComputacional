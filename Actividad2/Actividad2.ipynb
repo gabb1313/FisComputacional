{
 "cells": [
  {
   "cell_type": "code",
   "execution_count": 1,
   "metadata": {
    "collapsed": false
   },
   "outputs": [
    {
     "name": "stdout",
     "output_type": "stream",
     "text": [
      "Proporciona el período de órbita: 86400\n",
      "('La altura del objeto con respecto a la superficie terrestre es', -6370999.0, 'metros')\n"
     ]
    }
   ],
   "source": [
    "T = float(input(\"Proporciona el período de órbita: \"))\n",
    "k = (6.67e-11*5.97e24)/(4*math.pi**2)\n",
    "h = (k*T**2)**(1/3)-6371000\n",
    "print(\"La altura del objeto con respecto a la superficie terrestre es\", h, \"metros\")"
   ]
  },
  {
   "cell_type": "code",
   "execution_count": 2,
   "metadata": {
    "collapsed": false
   },
   "outputs": [],
   "source": [
    "k = 6.67e-11*5.97e24/4*math.pi**2"
   ]
  },
  {
   "cell_type": "code",
   "execution_count": 3,
   "metadata": {
    "collapsed": false
   },
   "outputs": [
    {
     "name": "stdout",
     "output_type": "stream",
     "text": [
      "Proporciona el período de órbita: 50\n",
      "('La altura del objeto con respecto a la superficie terrestre es', -6370999.0, 'metros')\n"
     ]
    }
   ],
   "source": [
    "T = float(input(\"Proporciona el período de órbita: \"))\n",
    "k = (6.67e-11*5.97e24)/(4*math.pi**2)\n",
    "h = (k*T**2)**(1/3)-6371000\n",
    "print(\"La altura del objeto con respecto a la superficie terrestre es\", h, \"metros\")"
   ]
  },
  {
   "cell_type": "code",
   "execution_count": 4,
   "metadata": {
    "collapsed": false
   },
   "outputs": [
    {
     "name": "stdout",
     "output_type": "stream",
     "text": [
      "Proporciona el período de órbita en segundos: 84600\n",
      "('La altura del objeto con respecto a la superficie terrestre es', -6370999.0, 'metros')\n"
     ]
    }
   ],
   "source": [
    "T = float(input(\"Proporciona el período de órbita en segundos: \"))\n",
    "k = (6.67e-11*5.97e24)/(4*math.pi**2)\n",
    "h = (k*T**2)**(1/3)-6371000\n",
    "print(\"La altura del objeto con respecto a la superficie terrestre es\", h, \"metros\")"
   ]
  },
  {
   "cell_type": "code",
   "execution_count": 5,
   "metadata": {
    "collapsed": false
   },
   "outputs": [
    {
     "name": "stdout",
     "output_type": "stream",
     "text": [
      "Proporciona el período de órbita en segundos: 86400\n",
      "('La altura del objeto con respecto a la superficie terrestre es', -6370999.0, 'metros')\n"
     ]
    }
   ],
   "source": [
    "from math import pi\n",
    "T = float(input(\"Proporciona el período de órbita en segundos: \"))\n",
    "k = (6.67e-11*5.97e24)/(4*pi*pi)\n",
    "h = (k*T**2)**(1/3)-6371000\n",
    "print(\"La altura del objeto con respecto a la superficie terrestre es\", h, \"metros\")"
   ]
  },
  {
   "cell_type": "code",
   "execution_count": 6,
   "metadata": {
    "collapsed": false
   },
   "outputs": [
    {
     "name": "stdout",
     "output_type": "stream",
     "text": [
      "Proporciona el período de órbita en segundos: 86400\n",
      "('La altura del objeto con respecto a la superficie terrestre es', 35855910.176174976, 'metros')\n"
     ]
    }
   ],
   "source": [
    "from math import pi\n",
    "T = float(input(\"Proporciona el período de órbita en segundos: \"))\n",
    "k = (6.67e-11*5.97e24)/(4*pi*pi)\n",
    "h = (k*T**2)**(1./3.)-6371000\n",
    "print(\"La altura del objeto con respecto a la superficie terrestre es\", h, \"metros\")"
   ]
  },
  {
   "cell_type": "code",
   "execution_count": 7,
   "metadata": {
    "collapsed": false
   },
   "outputs": [
    {
     "name": "stdout",
     "output_type": "stream",
     "text": [
      "Proporciona el período de órbita en segundos: 5400\n",
      "('La altura del objeto con respecto a la superficie terrestre es', 279321.6253728606, 'metros')\n"
     ]
    }
   ],
   "source": [
    "from math import pi\n",
    "T = float(input(\"Proporciona el período de órbita en segundos: \"))\n",
    "k = (6.67e-11*5.97e24)/(4*pi*pi)\n",
    "h = (k*T**2)**(1./3.)-6371000\n",
    "print(\"La altura del objeto con respecto a la superficie terrestre es\", h, \"metros\")"
   ]
  },
  {
   "cell_type": "code",
   "execution_count": 9,
   "metadata": {
    "collapsed": false
   },
   "outputs": [
    {
     "name": "stdout",
     "output_type": "stream",
     "text": [
      "Proporciona el período de órbita en segundos: 2700\n",
      "('La altura del objeto con respecto a la superficie terrestre es', -2181559.8978108233, 'metros')\n"
     ]
    }
   ],
   "source": [
    "from math import pi\n",
    "T = float(input(\"Proporciona el período de órbita en segundos: \"))\n",
    "k = (6.67e-11*5.97e24)/(4*pi*pi)\n",
    "h = (k*T**2)**(1./3.)-6371000\n",
    "print(\"La altura del objeto con respecto a la superficie terrestre es\", h, \"metros\")"
   ]
  },
  {
   "cell_type": "code",
   "execution_count": 10,
   "metadata": {
    "collapsed": false
   },
   "outputs": [
    {
     "name": "stdout",
     "output_type": "stream",
     "text": [
      "Proporciona el período de órbita en segundos: 2700\n",
      "('La altura del objeto con respecto a la superficie terrestre es', -2181559.8978108233, 'metros')\n"
     ]
    }
   ],
   "source": [
    "from math import pi\n",
    "T = float(input(\"Proporciona el período de órbita en segundos: \"))\n",
    "k = (6.67e-11*5.97e24)/(4*pi*pi)\n",
    "h = (k*T**2)**(1./3.)-6371000\n",
    "print(\"La altura del objeto con respecto a la superficie terrestre es\", h, \"metros\")"
   ]
  },
  {
   "cell_type": "code",
   "execution_count": 11,
   "metadata": {
    "collapsed": false
   },
   "outputs": [
    {
     "name": "stdout",
     "output_type": "stream",
     "text": [
      "Proporciona el período de órbita en segundos: 2700\n",
      "('La altura del objeto con respecto a la superficie terrestre es', -2181559.8978108233, 'metros')\n"
     ]
    }
   ],
   "source": [
    "from math import pi\n",
    "T = float(input(\"Proporciona el período de órbita en segundos: \"))\n",
    "k = (6.67e-11*5.97e24)/(4*pi*pi)\n",
    "h = (k*T*T)**(1./3.)-6371000\n",
    "print(\"La altura del objeto con respecto a la superficie terrestre es\", h, \"metros\")"
   ]
  },
  {
   "cell_type": "code",
   "execution_count": 19,
   "metadata": {
    "collapsed": false
   },
   "outputs": [
    {
     "name": "stdout",
     "output_type": "stream",
     "text": [
      "Proporciona el período de órbita en segundos: 5064\n",
      "('La altura del objeto con respecto a la superficie terrestre es', 513.4973585987464, 'metros')\n"
     ]
    }
   ],
   "source": [
    "from math import pi\n",
    "T = float(input(\"Proporciona el período de órbita en segundos: \"))\n",
    "k = (6.67e-11*5.97e24)/(4*pi*pi)\n",
    "h = (k*T*T)**(1./3.)-6371000\n",
    "print(\"La altura del objeto con respecto a la superficie terrestre es\", h, \"metros\")"
   ]
  },
  {
   "cell_type": "code",
   "execution_count": 1,
   "metadata": {
    "collapsed": false
   },
   "outputs": [
    {
     "name": "stdout",
     "output_type": "stream",
     "text": [
      "Introduce r: 5\n",
      "Ingresa theta en grados: 30\n",
      "x = 4.330127018922194  y = 2.4999999999999996\n"
     ]
    }
   ],
   "source": [
    "from math import sin,cos,pi\n",
    "r = float(input(\"Introduce r: \"))\n",
    "d = float(input(\"Ingresa theta en grados: \"))\n",
    "theta = d*pi/180\n",
    "x = r*cos(theta)\n",
    "y = r*sin(theta)\n",
    "print(\"x =\",x,\" y =\",y)"
   ]
  },
  {
   "cell_type": "code",
   "execution_count": 2,
   "metadata": {
    "collapsed": false
   },
   "outputs": [
    {
     "name": "stdout",
     "output_type": "stream",
     "text": [
      "Introduce x: 4\n",
      "Introduce y: 6\n",
      "Introduce z: 3\n",
      "rho = 7.810249675906654  theta = 0.982793723247329  phi = 1.176551951730111\n"
     ]
    }
   ],
   "source": [
    "from math import atan,acos,pi,sqrt\n",
    "x = float(input(\"Introduce x: \"))\n",
    "y = float(input(\"Introduce y: \"))\n",
    "z = float(input(\"Introduce z: \"))\n",
    "rho = sqrt((x*x)+(y*y)+(z*z))\n",
    "theta = atan(y/x)\n",
    "phi = acos(z/(sqrt((x*x)+(y*y)+(z*z))))\n",
    "print(\"rho =\",rho,\" theta =\",theta,\" phi =\",phi)"
   ]
  },
  {
   "cell_type": "code",
   "execution_count": 4,
   "metadata": {
    "collapsed": false
   },
   "outputs": [
    {
     "name": "stdout",
     "output_type": "stream",
     "text": [
      "Enter an integer: 6\n",
      "even\n"
     ]
    }
   ],
   "source": [
    "n = int(input(\"Enter an integer: \"))\n",
    "if n%2==0:\n",
    "     print(\"even\")\n",
    "else:\n",
    "     print(\"odd\")"
   ]
  },
  {
   "cell_type": "code",
   "execution_count": 5,
   "metadata": {
    "collapsed": false
   },
   "outputs": [
    {
     "name": "stdout",
     "output_type": "stream",
     "text": [
      "Enter two integers, one even, one odd.\n",
      "Enter the first integer: 5\n",
      "Enter the second integer: 5\n",
      "One must be even and the other odd.\n",
      "Enter the first integer: 5\n",
      "Enter the second integer: 6\n",
      "The numbers you chose are 5 and 6\n"
     ]
    }
   ],
   "source": [
    "print(\"Enter two integers, one even, one odd.\")\n",
    "m = int(input(\"Enter the first integer: \"))\n",
    "n = int(input(\"Enter the second integer: \"))\n",
    "while (m+n)%2==0:\n",
    "    print(\"One must be even and the other odd.\")\n",
    "    m = int(input(\"Enter the first integer: \"))\n",
    "    n = int(input(\"Enter the second integer: \"))\n",
    "print(\"The numbers you chose are\",m,\"and\",n)"
   ]
  },
  {
   "cell_type": "code",
   "execution_count": 6,
   "metadata": {
    "collapsed": false
   },
   "outputs": [
    {
     "name": "stdout",
     "output_type": "stream",
     "text": [
      "1\n",
      "2\n",
      "3\n",
      "5\n",
      "8\n",
      "13\n",
      "21\n",
      "34\n",
      "55\n",
      "89\n",
      "144\n",
      "233\n",
      "377\n",
      "610\n",
      "987\n"
     ]
    }
   ],
   "source": [
    "f1,f2 = 1,1\n",
    "while f2<1000:\n",
    "      print(f2)\n",
    "      f1,f2 = f2,f1+f2"
   ]
  },
  {
   "cell_type": "code",
   "execution_count": 8,
   "metadata": {
    "collapsed": false
   },
   "outputs": [
    {
     "name": "stdout",
     "output_type": "stream",
     "text": [
      "0\n"
     ]
    },
    {
     "ename": "TypeError",
     "evalue": "'int' object is not callable",
     "output_type": "error",
     "traceback": [
      "\u001b[1;31m---------------------------------------------------------------------------\u001b[0m",
      "\u001b[1;31mTypeError\u001b[0m                                 Traceback (most recent call last)",
      "\u001b[1;32m<ipython-input-8-dc259eef6d45>\u001b[0m in \u001b[0;36m<module>\u001b[1;34m()\u001b[0m\n\u001b[0;32m      2\u001b[0m \u001b[1;32mwhile\u001b[0m \u001b[0mc\u001b[0m\u001b[1;33m<\u001b[0m\u001b[1;36m100000\u001b[0m\u001b[1;33m:\u001b[0m\u001b[1;33m\u001b[0m\u001b[0m\n\u001b[0;32m      3\u001b[0m       \u001b[0mprint\u001b[0m\u001b[1;33m(\u001b[0m\u001b[0mc\u001b[0m\u001b[1;33m)\u001b[0m\u001b[1;33m\u001b[0m\u001b[0m\n\u001b[1;32m----> 4\u001b[1;33m       \u001b[0mc\u001b[0m\u001b[1;33m,\u001b[0m\u001b[0mn\u001b[0m \u001b[1;33m=\u001b[0m \u001b[1;33m(\u001b[0m\u001b[1;33m(\u001b[0m\u001b[1;36m2\u001b[0m\u001b[1;33m(\u001b[0m\u001b[1;36m2\u001b[0m\u001b[1;33m*\u001b[0m\u001b[0mn\u001b[0m\u001b[1;33m+\u001b[0m\u001b[1;36m1\u001b[0m\u001b[1;33m)\u001b[0m\u001b[1;33m)\u001b[0m\u001b[1;33m/\u001b[0m\u001b[1;33m(\u001b[0m\u001b[0mn\u001b[0m\u001b[1;33m+\u001b[0m\u001b[1;36m2\u001b[0m\u001b[1;33m)\u001b[0m\u001b[1;33m)\u001b[0m\u001b[1;33m*\u001b[0m\u001b[0mc\u001b[0m\u001b[1;33m,\u001b[0m\u001b[0mn\u001b[0m\u001b[1;33m+\u001b[0m\u001b[1;36m1\u001b[0m\u001b[1;33m\u001b[0m\u001b[0m\n\u001b[0m",
      "\u001b[1;31mTypeError\u001b[0m: 'int' object is not callable"
     ]
    }
   ],
   "source": [
    "n,c = 1,0\n",
    "while c<100000:\n",
    "      print(c)\n",
    "      c,n = ((2(2*n+1))/(n+2))*c,n+1"
   ]
  },
  {
   "cell_type": "code",
   "execution_count": 9,
   "metadata": {
    "collapsed": false
   },
   "outputs": [
    {
     "name": "stdout",
     "output_type": "stream",
     "text": [
      "0\n"
     ]
    },
    {
     "ename": "TypeError",
     "evalue": "'int' object is not callable",
     "output_type": "error",
     "traceback": [
      "\u001b[1;31m---------------------------------------------------------------------------\u001b[0m",
      "\u001b[1;31mTypeError\u001b[0m                                 Traceback (most recent call last)",
      "\u001b[1;32m<ipython-input-9-14bcad07cd89>\u001b[0m in \u001b[0;36m<module>\u001b[1;34m()\u001b[0m\n\u001b[0;32m      2\u001b[0m \u001b[1;32mwhile\u001b[0m \u001b[0mc\u001b[0m\u001b[1;33m<\u001b[0m\u001b[1;36m100000\u001b[0m\u001b[1;33m:\u001b[0m\u001b[1;33m\u001b[0m\u001b[0m\n\u001b[0;32m      3\u001b[0m       \u001b[0mprint\u001b[0m\u001b[1;33m(\u001b[0m\u001b[0mc\u001b[0m\u001b[1;33m)\u001b[0m\u001b[1;33m\u001b[0m\u001b[0m\n\u001b[1;32m----> 4\u001b[1;33m       \u001b[0mc\u001b[0m\u001b[1;33m,\u001b[0m\u001b[0mn\u001b[0m \u001b[1;33m=\u001b[0m \u001b[1;33m(\u001b[0m\u001b[1;33m(\u001b[0m\u001b[1;36m2\u001b[0m\u001b[1;33m(\u001b[0m\u001b[1;36m2\u001b[0m\u001b[1;33m*\u001b[0m\u001b[0mn\u001b[0m\u001b[1;33m+\u001b[0m\u001b[1;36m1\u001b[0m\u001b[1;33m)\u001b[0m\u001b[1;33m)\u001b[0m\u001b[1;33m/\u001b[0m\u001b[1;33m(\u001b[0m\u001b[0mn\u001b[0m\u001b[1;33m+\u001b[0m\u001b[1;36m2\u001b[0m\u001b[1;33m)\u001b[0m\u001b[1;33m)\u001b[0m\u001b[1;33m*\u001b[0m\u001b[0mc\u001b[0m\u001b[1;33m,\u001b[0m\u001b[0mn\u001b[0m\u001b[1;33m+\u001b[0m\u001b[1;36m1\u001b[0m\u001b[1;33m\u001b[0m\u001b[0m\n\u001b[0m",
      "\u001b[1;31mTypeError\u001b[0m: 'int' object is not callable"
     ]
    }
   ],
   "source": [
    "c,n = 0,0\n",
    "while c<100000:\n",
    "      print(c)\n",
    "      c,n = ((2(2*n+1))/(n+2))*c,n+1"
   ]
  },
  {
   "cell_type": "code",
   "execution_count": 10,
   "metadata": {
    "collapsed": false
   },
   "outputs": [
    {
     "name": "stdout",
     "output_type": "stream",
     "text": [
      "0\n"
     ]
    },
    {
     "ename": "TypeError",
     "evalue": "'int' object is not callable",
     "output_type": "error",
     "traceback": [
      "\u001b[1;31m---------------------------------------------------------------------------\u001b[0m",
      "\u001b[1;31mTypeError\u001b[0m                                 Traceback (most recent call last)",
      "\u001b[1;32m<ipython-input-10-dc259eef6d45>\u001b[0m in \u001b[0;36m<module>\u001b[1;34m()\u001b[0m\n\u001b[0;32m      2\u001b[0m \u001b[1;32mwhile\u001b[0m \u001b[0mc\u001b[0m\u001b[1;33m<\u001b[0m\u001b[1;36m100000\u001b[0m\u001b[1;33m:\u001b[0m\u001b[1;33m\u001b[0m\u001b[0m\n\u001b[0;32m      3\u001b[0m       \u001b[0mprint\u001b[0m\u001b[1;33m(\u001b[0m\u001b[0mc\u001b[0m\u001b[1;33m)\u001b[0m\u001b[1;33m\u001b[0m\u001b[0m\n\u001b[1;32m----> 4\u001b[1;33m       \u001b[0mc\u001b[0m\u001b[1;33m,\u001b[0m\u001b[0mn\u001b[0m \u001b[1;33m=\u001b[0m \u001b[1;33m(\u001b[0m\u001b[1;33m(\u001b[0m\u001b[1;36m2\u001b[0m\u001b[1;33m(\u001b[0m\u001b[1;36m2\u001b[0m\u001b[1;33m*\u001b[0m\u001b[0mn\u001b[0m\u001b[1;33m+\u001b[0m\u001b[1;36m1\u001b[0m\u001b[1;33m)\u001b[0m\u001b[1;33m)\u001b[0m\u001b[1;33m/\u001b[0m\u001b[1;33m(\u001b[0m\u001b[0mn\u001b[0m\u001b[1;33m+\u001b[0m\u001b[1;36m2\u001b[0m\u001b[1;33m)\u001b[0m\u001b[1;33m)\u001b[0m\u001b[1;33m*\u001b[0m\u001b[0mc\u001b[0m\u001b[1;33m,\u001b[0m\u001b[0mn\u001b[0m\u001b[1;33m+\u001b[0m\u001b[1;36m1\u001b[0m\u001b[1;33m\u001b[0m\u001b[0m\n\u001b[0m",
      "\u001b[1;31mTypeError\u001b[0m: 'int' object is not callable"
     ]
    }
   ],
   "source": [
    "n,c = 1,0\n",
    "while c<100000:\n",
    "      print(c)\n",
    "      c,n = ((2(2*n+1))/(n+2))*c,n+1"
   ]
  },
  {
   "cell_type": "code",
   "execution_count": 11,
   "metadata": {
    "collapsed": false
   },
   "outputs": [
    {
     "name": "stdout",
     "output_type": "stream",
     "text": [
      "1\n"
     ]
    },
    {
     "ename": "TypeError",
     "evalue": "'int' object is not callable",
     "output_type": "error",
     "traceback": [
      "\u001b[1;31m---------------------------------------------------------------------------\u001b[0m",
      "\u001b[1;31mTypeError\u001b[0m                                 Traceback (most recent call last)",
      "\u001b[1;32m<ipython-input-11-1af2dda7a569>\u001b[0m in \u001b[0;36m<module>\u001b[1;34m()\u001b[0m\n\u001b[0;32m      2\u001b[0m \u001b[1;32mwhile\u001b[0m \u001b[0mc\u001b[0m\u001b[1;33m<\u001b[0m\u001b[1;36m100000\u001b[0m\u001b[1;33m:\u001b[0m\u001b[1;33m\u001b[0m\u001b[0m\n\u001b[0;32m      3\u001b[0m       \u001b[0mprint\u001b[0m\u001b[1;33m(\u001b[0m\u001b[0mc\u001b[0m\u001b[1;33m)\u001b[0m\u001b[1;33m\u001b[0m\u001b[0m\n\u001b[1;32m----> 4\u001b[1;33m       \u001b[0mn\u001b[0m\u001b[1;33m,\u001b[0m\u001b[0mc\u001b[0m \u001b[1;33m=\u001b[0m \u001b[0mn\u001b[0m\u001b[1;33m+\u001b[0m\u001b[1;36m1\u001b[0m\u001b[1;33m,\u001b[0m\u001b[1;33m(\u001b[0m\u001b[1;33m(\u001b[0m\u001b[1;36m2\u001b[0m\u001b[1;33m(\u001b[0m\u001b[1;36m2\u001b[0m\u001b[1;33m*\u001b[0m\u001b[0mn\u001b[0m\u001b[1;33m+\u001b[0m\u001b[1;36m1\u001b[0m\u001b[1;33m)\u001b[0m\u001b[1;33m)\u001b[0m\u001b[1;33m/\u001b[0m\u001b[1;33m(\u001b[0m\u001b[0mn\u001b[0m\u001b[1;33m+\u001b[0m\u001b[1;36m2\u001b[0m\u001b[1;33m)\u001b[0m\u001b[1;33m)\u001b[0m\u001b[1;33m*\u001b[0m\u001b[0mc\u001b[0m\u001b[1;33m\u001b[0m\u001b[0m\n\u001b[0m",
      "\u001b[1;31mTypeError\u001b[0m: 'int' object is not callable"
     ]
    }
   ],
   "source": [
    "n,c = 0,1\n",
    "while c<100000:\n",
    "      print(c)\n",
    "      n,c = n+1,((2(2*n+1))/(n+2))*c"
   ]
  },
  {
   "cell_type": "code",
   "execution_count": 12,
   "metadata": {
    "collapsed": false
   },
   "outputs": [
    {
     "name": "stdout",
     "output_type": "stream",
     "text": [
      "1\n",
      "1.0\n",
      "2.0\n",
      "5.0\n",
      "14.0\n",
      "42.0\n",
      "132.0\n",
      "429.0\n",
      "1430.0\n",
      "4862.0\n",
      "16796.0\n",
      "58786.0\n"
     ]
    }
   ],
   "source": [
    "n,c = 0,1\n",
    "while c<100000:\n",
    "      print(c)\n",
    "      n,c = n+1,(((4*n)+2)/(n+2))*c"
   ]
  },
  {
   "cell_type": "code",
   "execution_count": 13,
   "metadata": {
    "collapsed": false
   },
   "outputs": [
    {
     "name": "stdout",
     "output_type": "stream",
     "text": [
      "Proporciona la altura de la torre: 100\n",
      "Ingresa el tiempo: 6\n",
      "La altura de la pelota es -76.58000000000001 metros\n"
     ]
    }
   ],
   "source": [
    "#comentarios gg\n",
    "#guardé en una cosa aparte el de caída libre, lo pondré aquí en el cuaderno\n",
    "\n",
    "h = float(input(\"Proporciona la altura de la torre: \"))\n",
    "t = float(input(\"Ingresa el tiempo: \"))\n",
    "s = 0.5*9.81*t**2\n",
    "print(\"La altura de la pelota es\", h-s, \"metros\")"
   ]
  },
  {
   "cell_type": "code",
   "execution_count": 14,
   "metadata": {
    "collapsed": false
   },
   "outputs": [
    {
     "name": "stdout",
     "output_type": "stream",
     "text": [
      "Proporciona la altura de la torre: 100\n",
      "La pelota tarda en caer 4.5175395145262565 segundos\n"
     ]
    }
   ],
   "source": [
    "from math import sqrt\n",
    "h = float(input(\"Proporciona la altura de la torre: \"))\n",
    "t = sqrt(2*h/9.8)\n",
    "print(\"La pelota tarda en caer\", t, \"segundos\")"
   ]
  },
  {
   "cell_type": "code",
   "execution_count": null,
   "metadata": {
    "collapsed": true
   },
   "outputs": [],
   "source": []
  }
 ],
 "metadata": {
  "kernelspec": {
   "display_name": "Python 3",
   "language": "python",
   "name": "python3"
  },
  "language_info": {
   "codemirror_mode": {
    "name": "ipython",
    "version": 3
   },
   "file_extension": ".py",
   "mimetype": "text/x-python",
   "name": "python",
   "nbconvert_exporter": "python",
   "pygments_lexer": "ipython3",
   "version": "3.5.1"
  }
 },
 "nbformat": 4,
 "nbformat_minor": 0
}
